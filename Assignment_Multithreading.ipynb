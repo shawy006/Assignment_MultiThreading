{
 "cells": [
  {
   "cell_type": "code",
   "execution_count": 1,
   "id": "bb00ed16",
   "metadata": {},
   "outputs": [],
   "source": [
    "\n",
    "# When we have to define multiple flow of execution for a program,we go for concept of multi threading. \n",
    "#  So we import threading module."
   ]
  },
  {
   "cell_type": "code",
   "execution_count": 2,
   "id": "d728c0a5",
   "metadata": {},
   "outputs": [],
   "source": [
    "# threading class(parent class) ---> Thread class(child class) , and it contains all methods for multithreading.\n",
    "#  1.active_count : count numbers of active thread present in a program.\n",
    "#  2.current_thread : it return current thread object(instance) of current working thread.\n",
    "#  3.enumerate : returns list of all active threads."
   ]
  },
  {
   "cell_type": "code",
   "execution_count": 3,
   "id": "5f238c75",
   "metadata": {},
   "outputs": [
    {
     "data": {
      "text/plain": [
       "'MainThread'"
      ]
     },
     "execution_count": 3,
     "metadata": {},
     "output_type": "execute_result"
    }
   ],
   "source": [
    "import threading\n",
    "threading.current_thread().getName()"
   ]
  },
  {
   "cell_type": "code",
   "execution_count": 8,
   "id": "5ab18952",
   "metadata": {},
   "outputs": [
    {
     "data": {
      "text/plain": [
       "6"
      ]
     },
     "execution_count": 8,
     "metadata": {},
     "output_type": "execute_result"
    }
   ],
   "source": [
    "threading.active_count()"
   ]
  },
  {
   "cell_type": "code",
   "execution_count": 25,
   "id": "62e3e950",
   "metadata": {},
   "outputs": [
    {
     "name": "stdout",
     "output_type": "stream",
     "text": [
      "child thread starts...\n",
      "child thread starts...\n",
      "********************\n",
      "MainThread\n",
      "IOPub\n",
      "Heartbeat\n",
      "Control\n",
      "IPythonHistorySavingThread\n",
      "Thread-4\n",
      "child-1\n",
      "child-2\n",
      "********************\n",
      "child thread end...child thread end...\n",
      "\n"
     ]
    }
   ],
   "source": [
    "import time\n",
    "def test_mul():\n",
    "    print('child thread starts...')\n",
    "    time.sleep(3)\n",
    "    print('child thread end...')\n",
    "t1=threading.Thread(target=test_mul,name='child-1')\n",
    "t2=threading.Thread(target=test_mul,name='child-2')\n",
    "t1.start()\n",
    "t2.start()\n",
    "\n",
    "thread_list=threading.enumerate()\n",
    "print('*'*20)\n",
    "for t in thread_list:\n",
    "    print(t.name)\n",
    "print('*'*20)"
   ]
  },
  {
   "cell_type": "code",
   "execution_count": 26,
   "id": "e20badb3",
   "metadata": {},
   "outputs": [],
   "source": [
    "#   1.run() : it is the entry point of the thread.\n",
    "#   2.start() : it start the execution of the thread by calling run method.\n",
    "#   3.join() : MainThread will waits untill completion of child thread.\n",
    "#   4.isAlive() : Check whether the child thread is active(currently executing) or not."
   ]
  },
  {
   "cell_type": "code",
   "execution_count": 29,
   "id": "375166da",
   "metadata": {},
   "outputs": [
    {
     "name": "stdout",
     "output_type": "stream",
     "text": [
      "Square value is :  1\n",
      "Square value is :  4\n",
      "Square value is :  9\n",
      "Square value is :  16\n",
      "Square value is :  25\n",
      "Square value is :  36\n",
      "Cube value is :  1\n",
      "Cube value is :  8\n",
      "Cube value is :  27\n",
      "Cube value is :  64\n",
      "Cube value is :  125\n",
      "Cube value is :  216\n"
     ]
    }
   ],
   "source": [
    "def cube(numbers):\n",
    "    for n in numbers:\n",
    "        print('Cube value is : ',n**3)\n",
    "def square(numbers):\n",
    "    for n in numbers:\n",
    "        print('Square value is : ',n*n)\n",
    "\n",
    "numbers=[1,2,3,4,5,6]\n",
    "t1=threading.Thread(target=square,args=(numbers,),name='squares_Thread')    \n",
    "t2=threading.Thread(target=cube,args=(numbers,),name='cubes_Thread')\n",
    "t1.start()\n",
    "t2.start()\n"
   ]
  },
  {
   "cell_type": "code",
   "execution_count": 30,
   "id": "3c860bdc",
   "metadata": {},
   "outputs": [],
   "source": [
    "# Advantages of a Multithreaded:\n",
    "# 1.Improved performance and concurrency\n",
    "# 2.Simplified coding\n",
    "# 3.Simultaneous access to multiple applications\n",
    "# 4.Reduced number of required servers, since multiple flow of execution is defined.\n",
    "\n",
    "# Disadvantages of a Multithreaded:\n",
    "# 1.Difficulty of writing code\n",
    "# 2.Difficulty of debugging\n",
    "# 3.Difficulty of managing concurrency\n",
    "# 4.Difficulty of testing"
   ]
  },
  {
   "cell_type": "code",
   "execution_count": null,
   "id": "681d50aa",
   "metadata": {},
   "outputs": [],
   "source": [
    "# A deadlock is a concurrency failure mode where a thread or threads wait for a condition that never occurs. The result is that\n",
    "#   the deadlock threads are unable to progress and the program is stuck or frozen and must be terminated forcefully.\n",
    "\n",
    "# A race condition happens when more than one thread is trying to access a shared piece of data at the same time."
   ]
  }
 ],
 "metadata": {
  "kernelspec": {
   "display_name": "Python 3 (ipykernel)",
   "language": "python",
   "name": "python3"
  },
  "language_info": {
   "codemirror_mode": {
    "name": "ipython",
    "version": 3
   },
   "file_extension": ".py",
   "mimetype": "text/x-python",
   "name": "python",
   "nbconvert_exporter": "python",
   "pygments_lexer": "ipython3",
   "version": "3.9.13"
  }
 },
 "nbformat": 4,
 "nbformat_minor": 5
}
